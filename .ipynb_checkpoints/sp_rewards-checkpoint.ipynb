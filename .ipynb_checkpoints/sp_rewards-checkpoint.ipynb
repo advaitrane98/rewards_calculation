{
 "cells": [
  {
   "cell_type": "code",
   "execution_count": 2,
   "id": "1f45807c",
   "metadata": {},
   "outputs": [
    {
     "ename": "FileExistsError",
     "evalue": "[WinError 183] Cannot create a file when that file already exists: 'C:\\\\Users\\\\advai\\\\OneDrive\\\\Desktop\\\\Test_Jupyter\\\\Rewards_calx\\\\rewards'",
     "output_type": "error",
     "traceback": [
      "\u001b[1;31m---------------------------------------------------------------------------\u001b[0m",
      "\u001b[1;31mFileExistsError\u001b[0m                           Traceback (most recent call last)",
      "Input \u001b[1;32mIn [2]\u001b[0m, in \u001b[0;36m<cell line: 8>\u001b[1;34m()\u001b[0m\n\u001b[0;32m      6\u001b[0m path: \u001b[38;5;28mstr\u001b[39m \u001b[38;5;241m=\u001b[39m os\u001b[38;5;241m.\u001b[39mgetcwd() \u001b[38;5;241m+\u001b[39m \u001b[38;5;124m\"\u001b[39m\u001b[38;5;130;01m\\\\\u001b[39;00m\u001b[38;5;124mINDY_rewards\u001b[39m\u001b[38;5;124m\"\u001b[39m\n\u001b[0;32m      8\u001b[0m \u001b[38;5;28;01mif\u001b[39;00m \u001b[38;5;124m\"\u001b[39m\u001b[38;5;124mrewards\u001b[39m\u001b[38;5;124m\"\u001b[39m \u001b[38;5;129;01mnot\u001b[39;00m \u001b[38;5;129;01min\u001b[39;00m os\u001b[38;5;241m.\u001b[39mlistdir(os\u001b[38;5;241m.\u001b[39mgetcwd()):\n\u001b[1;32m----> 9\u001b[0m     \u001b[43mos\u001b[49m\u001b[38;5;241;43m.\u001b[39;49m\u001b[43mmkdir\u001b[49m\u001b[43m(\u001b[49m\u001b[38;5;124;43mf\u001b[39;49m\u001b[38;5;124;43m\"\u001b[39;49m\u001b[38;5;132;43;01m{\u001b[39;49;00m\u001b[43mos\u001b[49m\u001b[38;5;241;43m.\u001b[39;49m\u001b[43mgetcwd\u001b[49m\u001b[43m(\u001b[49m\u001b[43m)\u001b[49m\u001b[38;5;132;43;01m}\u001b[39;49;00m\u001b[38;5;130;43;01m\\\\\u001b[39;49;00m\u001b[38;5;124;43mrewards\u001b[39;49m\u001b[38;5;124;43m\"\u001b[39;49m\u001b[43m)\u001b[49m\n\u001b[0;32m     11\u001b[0m timestamps \u001b[38;5;241m=\u001b[39m [ \u001b[38;5;28mint\u001b[39m(filename\u001b[38;5;241m.\u001b[39mreplace(\u001b[38;5;124m\"\u001b[39m\u001b[38;5;124m.\u001b[39m\u001b[38;5;124m\"\u001b[39m, \u001b[38;5;124m\"\u001b[39m\u001b[38;5;124m-\u001b[39m\u001b[38;5;124m\"\u001b[39m)\u001b[38;5;241m.\u001b[39msplit(\u001b[38;5;124m\"\u001b[39m\u001b[38;5;124m-\u001b[39m\u001b[38;5;124m\"\u001b[39m)[\u001b[38;5;241m-\u001b[39m\u001b[38;5;241m2\u001b[39m])  \u001b[38;5;28;01mfor\u001b[39;00m filename \u001b[38;5;129;01min\u001b[39;00m os\u001b[38;5;241m.\u001b[39mlistdir(path)]\n\u001b[0;32m     13\u001b[0m \u001b[38;5;28;01mfor\u001b[39;00m index, file \u001b[38;5;129;01min\u001b[39;00m \u001b[38;5;28mlist\u001b[39m(\u001b[38;5;28menumerate\u001b[39m(os\u001b[38;5;241m.\u001b[39mlistdir(path))):\n",
      "\u001b[1;31mFileExistsError\u001b[0m: [WinError 183] Cannot create a file when that file already exists: 'C:\\\\Users\\\\advai\\\\OneDrive\\\\Desktop\\\\Test_Jupyter\\\\Rewards_calx\\\\rewards'"
     ]
    }
   ],
   "source": [
    "import calendar, time;\n",
    "import os\n",
    "import pandas as pd\n",
    "import glob\n",
    "\n",
    "path: str = os.getcwd() + \"\\\\INDY_rewards\"\n",
    "    \n",
    "if \"rewards\" not in os.listdir(os.getcwd()):\n",
    "    os.mkdir(f\"{os.getcwd()}\\\\rewards\")\n",
    "\n",
    "timestamps = [ int(filename.replace(\".\", \"-\").split(\"-\")[-2])  for filename in os.listdir(path)]\n",
    "\n",
    "for index, file in list(enumerate(os.listdir(path))):\n",
    "    df = pd.read_csv(f\"{path}\\\\{file}\")\n",
    "    df.to_csv(f\"{os.getcwd()}\\\\rewards\\\\{timestamps[index]}.csv\")\n",
    "\n",
    "csv_files = glob.glob(os.path.join(f\"{os.getcwd()}\\\\rewards\", \"*.csv\"))\n",
    "\n",
    "df_rewards = pd.concat((pd.read_csv(file) for file in csv_files), ignore_index=True)\n",
    "\n",
    "df_rewards = df_rewards.drop(\"Unnamed: 0\", axis=1)\n",
    "df_rewards[\"actual_amount\"] = df_rewards[\"amount\"]/1000000\n",
    "df_rewards[\"date\"] = pd.to_datetime(df_rewards[\"date\"])\n",
    "\n",
    "df_rewards['date'] = df_rewards['date'].dt.strftime('%Y-%m-%d')\n"
   ]
  },
  {
   "cell_type": "code",
   "execution_count": null,
   "id": "1d9925bb",
   "metadata": {},
   "outputs": [],
   "source": []
  }
 ],
 "metadata": {
  "kernelspec": {
   "display_name": "Python 3 (ipykernel)",
   "language": "python",
   "name": "python3"
  },
  "language_info": {
   "codemirror_mode": {
    "name": "ipython",
    "version": 3
   },
   "file_extension": ".py",
   "mimetype": "text/x-python",
   "name": "python",
   "nbconvert_exporter": "python",
   "pygments_lexer": "ipython3",
   "version": "3.10.6"
  }
 },
 "nbformat": 4,
 "nbformat_minor": 5
}
